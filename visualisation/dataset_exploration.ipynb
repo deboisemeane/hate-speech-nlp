{
 "cells": [
  {
   "cell_type": "code",
   "execution_count": 7,
   "metadata": {},
   "outputs": [],
   "source": [
    "#Imports\n",
    "import pandas as pd\n",
    "import matplotlib.pyplot as plt\n",
    "from pathlib import Path\n",
    "import os"
   ]
  },
  {
   "cell_type": "code",
   "execution_count": 22,
   "metadata": {},
   "outputs": [
    {
     "name": "stdout",
     "output_type": "stream",
     "text": [
      "   comment_id  annotator_id  platform  sentiment  respect  insult  humiliate  \\\n",
      "0       47777         10873         3        0.0      0.0     0.0        0.0   \n",
      "1       39773          2790         2        0.0      0.0     0.0        0.0   \n",
      "2       47101          3379         3        4.0      4.0     4.0        4.0   \n",
      "3       43625          7365         3        2.0      3.0     2.0        1.0   \n",
      "4       12538           488         0        4.0      4.0     4.0        4.0   \n",
      "\n",
      "   status  dehumanize  violence  ...  annotator_religion_hindu  \\\n",
      "0     2.0         0.0       0.0  ...                     False   \n",
      "1     2.0         0.0       0.0  ...                     False   \n",
      "2     4.0         4.0       0.0  ...                     False   \n",
      "3     2.0         0.0       0.0  ...                     False   \n",
      "4     4.0         4.0       4.0  ...                     False   \n",
      "\n",
      "   annotator_religion_jewish  annotator_religion_mormon  \\\n",
      "0                      False                      False   \n",
      "1                      False                      False   \n",
      "2                      False                      False   \n",
      "3                      False                      False   \n",
      "4                      False                      False   \n",
      "\n",
      "   annotator_religion_muslim annotator_religion_nothing  \\\n",
      "0                      False                      False   \n",
      "1                      False                      False   \n",
      "2                      False                       True   \n",
      "3                      False                      False   \n",
      "4                      False                      False   \n",
      "\n",
      "   annotator_religion_other  annotator_sexuality_bisexual  \\\n",
      "0                     False                         False   \n",
      "1                     False                         False   \n",
      "2                     False                         False   \n",
      "3                     False                         False   \n",
      "4                     False                         False   \n",
      "\n",
      "   annotator_sexuality_gay  annotator_sexuality_straight  \\\n",
      "0                    False                          True   \n",
      "1                    False                          True   \n",
      "2                    False                          True   \n",
      "3                    False                          True   \n",
      "4                    False                          True   \n",
      "\n",
      "   annotator_sexuality_other  \n",
      "0                      False  \n",
      "1                      False  \n",
      "2                      False  \n",
      "3                      False  \n",
      "4                      False  \n",
      "\n",
      "[5 rows x 131 columns]\n"
     ]
    }
   ],
   "source": [
    "#Load Dataframe\n",
    "df = pd.read_csv('../data/raw/measuring-hate-speech-train.csv')\n",
    "print(df.head())"
   ]
  },
  {
   "cell_type": "code",
   "execution_count": null,
   "metadata": {},
   "outputs": [],
   "source": []
  }
 ],
 "metadata": {
  "kernelspec": {
   "display_name": "NLP",
   "language": "python",
   "name": "python3"
  },
  "language_info": {
   "codemirror_mode": {
    "name": "ipython",
    "version": 3
   },
   "file_extension": ".py",
   "mimetype": "text/x-python",
   "name": "python",
   "nbconvert_exporter": "python",
   "pygments_lexer": "ipython3",
   "version": "3.11.9"
  }
 },
 "nbformat": 4,
 "nbformat_minor": 2
}
